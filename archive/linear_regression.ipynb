{
 "cells": [
  {
   "cell_type": "code",
   "execution_count": 11,
   "metadata": {},
   "outputs": [],
   "source": [
    "# Import packages\n",
    "import os\n",
    "import math\n",
    "import numpy as np\n",
    "import pandas as pd\n",
    "import matplotlib.pyplot as plt"
   ]
  },
  {
   "cell_type": "code",
   "execution_count": 30,
   "metadata": {},
   "outputs": [],
   "source": [
    "def get_data():\n",
    "    '''\n",
    "    ------------------------\n",
    "    Input: None\n",
    "    Output: Assignment data\n",
    "    ------------------------\n",
    "    '''\n",
    "    return np.array([1, 2, 3, 4]), np.array([3, 2, 0, 5])  \n",
    "\n",
    "\n",
    "def get_basis(x, k):\n",
    "    '''\n",
    "    ------------------------\n",
    "    Input: Dataset and degree\n",
    "    Output: Polynomial basis features\n",
    "    Given a dimension this iterates\n",
    "    through orders [0 to k-1]\n",
    "    ------------------------\n",
    "    '''\n",
    "    grid = np.meshgrid(x, np.arange(k)) \n",
    "    return np.power(grid[0], grid[1]).T\n",
    "\n",
    "\n",
    "def get_sol(X, Y):\n",
    "    '''\n",
    "    ------------------------\n",
    "    Input: Polynomial features\n",
    "    Output: Least squares solution\n",
    "    ------------------------\n",
    "    '''\n",
    "    return np.linalg.solve(X.T @ X, X.T @ Y)\n",
    "\n",
    "\n",
    "def get_predictions(X, beta_hat):\n",
    "    '''\n",
    "    ------------------------\n",
    "    Input: \n",
    "           1) Polynomial features\n",
    "           2) Least squares coefficients\n",
    "    Output: Predictions\n",
    "    ------------------------\n",
    "    '''\n",
    "    return X @ beta_hat\n",
    "\n",
    "\n",
    "def get_mse(Y, Y_hat):\n",
    "    '''\n",
    "    ------------------------\n",
    "    Input: True values and predicted values\n",
    "    Output: Mean squared error\n",
    "    ------------------------\n",
    "    '''\n",
    "    return np.sum(np.power(Y-Y_hat, 2))/max(Y.shape)\n",
    "\n",
    "\n",
    "def run_regression(k, x, y, loss_func):\n",
    "    '''\n",
    "    ------------------------\n",
    "    Input: Dataset and degree\n",
    "    Output: Assignment data\n",
    "    ------------------------\n",
    "    ''' \n",
    "    phi_x = get_basis(x, k)\n",
    "    beta_hat = get_sol(phi_x, y)\n",
    "    y_hat = get_predictions(phi_x, beta_hat)\n",
    "    \n",
    "    # Note that the results display the degree/order and not the dimension\n",
    "    mse = loss_func(y, y_hat)\n",
    "    results = {'beta_hat': beta_hat, 'y_hat': y_hat, 'mse': mse, 'degree': k - 1}\n",
    "    \n",
    "    return(results)\n",
    "\n",
    "\n",
    "def get_final_results(results):\n",
    "    '''\n",
    "    ------------------------\n",
    "    Input: True values and predicted values\n",
    "    Output: Mean squared error\n",
    "    ------------------------\n",
    "    '''\n",
    "    mse = pd.DataFrame([result['mse'] for result in results], columns = ['MSE'])\n",
    "    mse['degree'] = [result['degree'] for result in results]\n",
    "    mse.set_index('degree', inplace = True)\n",
    "    \n",
    "    return(mse)\n",
    "\n",
    "\n",
    "def plot_results(path, title, k, results, x_lab = \"X\", y_lab=\"Y\"):\n",
    "    '''\n",
    "    ------------------------\n",
    "    Input: Dataset and degree\n",
    "    Output: Assignment data\n",
    "    ------------------------\n",
    "    ''' \n",
    "    # Make grids for plot\n",
    "    x_grid = np.linspace(-5, 5, 100000)\n",
    "    \n",
    "    # These iterate through orders/degrees [0 to k-1] using dimension\n",
    "    x_basis = [get_basis(x_grid, dim) for dim in range(1, k)]\n",
    "    y_grid = [get_predictions(basis, results[dim]['beta_hat']) for basis, dim in zip(x_basis, range(k))]\n",
    "    \n",
    "    # Plots\n",
    "    # This plots iterate through the orders/degrees [0 to k-1]\n",
    "    for degree in range(k-1):\n",
    "        plt.plot(x_grid, y_grid[degree], label = str(degree))\n",
    "    \n",
    "    # Add annotations\n",
    "    plt.xlabel(x_lab)\n",
    "    plt.ylabel(y_lab)\n",
    "    plt.title(title)\n",
    "    plt.legend()\n",
    "    \n",
    "    axes = plt.gca()\n",
    "    axes.set_xlim([0,5])\n",
    "    axes.set_ylim([-5,8])\n",
    "\n",
    "    \n",
    "    # Display and save plot\n",
    "    plt.show()\n",
    "    plt.savefig(path)"
   ]
  },
  {
   "cell_type": "code",
   "execution_count": 31,
   "metadata": {},
   "outputs": [],
   "source": [
    "def main(k):\n",
    "    '''\n",
    "    ------------------------\n",
    "    Input: Dataset and degree\n",
    "    Output: Assignment data\n",
    "    ------------------------\n",
    "    ''' \n",
    "    x, y = get_data()\n",
    "    results = [run_regression(dim, x, y, get_mse) for dim in range(1, k)]\n",
    "    \n",
    "    title = 'Polynomial Basis Fits'\n",
    "    path = os.path.join('.', '..', 'figs', '1_1.png')\n",
    "    \n",
    "    df = get_final_results(results)\n",
    "    plot_results(path, title, k, results)\n",
    "    \n",
    "    return(results, df)"
   ]
  },
  {
   "cell_type": "code",
   "execution_count": 32,
   "metadata": {},
   "outputs": [
    {
     "name": "stdout",
     "output_type": "stream",
     "text": [
      "0\n",
      "1\n",
      "2\n",
      "3\n"
     ]
    },
    {
     "data": {
      "image/png": "[encoded data removed]",
      "text/plain": [
       "<Figure size 432x288 with 1 Axes>"
      ]
     },
     "metadata": {
      "needs_background": "light"
     },
     "output_type": "display_data"
    },
    {
     "data": {
      "text/plain": [
       "([{'beta_hat': array([2.5]),\n",
       "   'y_hat': array([2.5, 2.5, 2.5, 2.5]),\n",
       "   'mse': 3.25,\n",
       "   'degree': 0},\n",
       "  {'beta_hat': array([1.5, 0.4]),\n",
       "   'y_hat': array([1.9, 2.3, 2.7, 3.1]),\n",
       "   'mse': 3.0500000000000003,\n",
       "   'degree': 1},\n",
       "  {'beta_hat': array([ 9. , -7.1,  1.5]),\n",
       "   'y_hat': array([3.4, 0.8, 1.2, 4.6]),\n",
       "   'mse': 0.7999999999999992,\n",
       "   'degree': 2},\n",
       "  {'beta_hat': array([-5.        , 15.16666667, -8.5       ,  1.33333333]),\n",
       "   'y_hat': array([3.00000000e+00, 2.00000000e+00, 6.82121026e-13, 5.00000000e+00]),\n",
       "   'mse': 3.623908669449545e-25,\n",
       "   'degree': 3}],\n",
       "                  MSE\n",
       " degree              \n",
       " 0       3.250000e+00\n",
       " 1       3.050000e+00\n",
       " 2       8.000000e-01\n",
       " 3       3.623909e-25)"
      ]
     },
     "execution_count": 32,
     "metadata": {},
     "output_type": "execute_result"
    },
    {
     "data": {
      "text/plain": [
       "<Figure size 432x288 with 0 Axes>"
      ]
     },
     "metadata": {},
     "output_type": "display_data"
    }
   ],
   "source": [
    "main(k=5)"
   ]
  }
 ],
 "metadata": {
  "kernelspec": {
   "display_name": "Python 3",
   "language": "python",
   "name": "python3"
  },
  "language_info": {
   "codemirror_mode": {
    "name": "ipython",
    "version": 3
   },
   "file_extension": ".py",
   "mimetype": "text/x-python",
   "name": "python",
   "nbconvert_exporter": "python",
   "pygments_lexer": "ipython3",
   "version": "3.8.0"
  }
 },
 "nbformat": 4,
 "nbformat_minor": 4
}

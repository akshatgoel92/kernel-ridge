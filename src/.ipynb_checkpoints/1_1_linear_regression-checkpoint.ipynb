{
 "cells": [
  {
   "cell_type": "code",
   "execution_count": 34,
   "metadata": {},
   "outputs": [],
   "source": [
    "# Import packages\n",
    "import numpy as np\n",
    "import matplotlib.pyplot as plt\n",
    "\n",
    "# Set plot size to make plots bigger\n",
    "plt.rcParams[\"figure.figsize\"] = (10,5)"
   ]
  },
  {
   "cell_type": "code",
   "execution_count": 35,
   "metadata": {},
   "outputs": [],
   "source": [
    "def get_data():\n",
    "    '''\n",
    "    ------------------------\n",
    "    Input: None\n",
    "    Output: Assignment data\n",
    "    ------------------------\n",
    "    '''\n",
    "    return np.array([1, 2, 3, 4]), np.array([3, 2, 0, 5])    "
   ]
  },
  {
   "cell_type": "code",
   "execution_count": 36,
   "metadata": {},
   "outputs": [],
   "source": [
    "def get_basis(x, k):\n",
    "    '''\n",
    "    ------------------------\n",
    "    Input: Dataset and degree\n",
    "    Output: Assignment data\n",
    "    ------------------------\n",
    "    '''\n",
    "    grid = np.meshgrid(x, np.arange(k + 1)) \n",
    "    return np.power(grid[0], grid[1]).T"
   ]
  },
  {
   "cell_type": "code",
   "execution_count": 37,
   "metadata": {},
   "outputs": [],
   "source": [
    "def get_sol(phi_x, y):\n",
    "    '''\n",
    "    ------------------------\n",
    "    Input: Dataset and degree\n",
    "    Output: Assignment data\n",
    "    ------------------------\n",
    "    '''\n",
    "    return np.linalg.inv(phi_x.T @ phi_x) @ phi_x.T @ y"
   ]
  },
  {
   "cell_type": "code",
   "execution_count": 38,
   "metadata": {},
   "outputs": [],
   "source": [
    "def get_predictions(phi_x, beta_hat):\n",
    "    '''\n",
    "    ------------------------\n",
    "    Input: Dataset and degree\n",
    "    Output: Assignment data\n",
    "    ------------------------\n",
    "    '''\n",
    "    return phi_x @ beta_hat"
   ]
  },
  {
   "cell_type": "code",
   "execution_count": 39,
   "metadata": {},
   "outputs": [],
   "source": [
    "def get_mse(y, y_hat):\n",
    "    '''\n",
    "    ------------------------\n",
    "    Input: Dataset and degree\n",
    "    Output: Assignment data\n",
    "    ------------------------\n",
    "    '''\n",
    "    return np.power(np.sum(y-y_hat), 2) "
   ]
  },
  {
   "cell_type": "code",
   "execution_count": 40,
   "metadata": {},
   "outputs": [],
   "source": [
    "def plot_results(path, title, k, results):\n",
    "    '''\n",
    "    ------------------------\n",
    "    Input: Dataset and degree\n",
    "    Output: Assignment data\n",
    "    ------------------------\n",
    "    ''' \n",
    "    # Make grids for plot\n",
    "    x_grid = np.linspace(-5, 5, 100000)\n",
    "    x_basis = [get_basis(x_grid, degree) for degree in range(k + 1)]\n",
    "    y_grid = [get_predictions(basis, results[degree]['beta_hat']) for basis, degree in zip(x_basis, range(k + 1))]\n",
    "    \n",
    "    # Plots\n",
    "    for degree in range(k + 1):\n",
    "        plt.plot(x_grid, y_grid[degree], label = str(degree))\n",
    "    \n",
    "    # Add annotations\n",
    "    plt.xlabel('X')\n",
    "    plt.ylabel('Y')\n",
    "    plt.title(title)\n",
    "    plt.legend()\n",
    "    \n",
    "    axes = plt.gca()\n",
    "    axes.set_xlim([0,5])\n",
    "    axes.set_ylim([-5,8])\n",
    "\n",
    "    \n",
    "    # Display and save plot\n",
    "    plt.show()\n",
    "    plt.savefig(path)"
   ]
  },
  {
   "cell_type": "code",
   "execution_count": 41,
   "metadata": {},
   "outputs": [],
   "source": [
    "def run_regression(k):\n",
    "    '''\n",
    "    ------------------------\n",
    "    Input: Dataset and degree\n",
    "    Output: Assignment data\n",
    "    ------------------------\n",
    "    ''' \n",
    "    # Store data\n",
    "    x, y = get_data()\n",
    "    \n",
    "    # Get basis\n",
    "    phi_x = get_basis(x, k)\n",
    "    \n",
    "    # Get solution\n",
    "    beta_hat = get_sol(phi_x, y)\n",
    "    \n",
    "    # Get predictions\n",
    "    y_hat = get_predictions(phi_x, beta_hat)\n",
    "    \n",
    "    # Get loss value\n",
    "    mse = get_mse(y, y_hat)\n",
    "    \n",
    "    # Store results in a dictionary\n",
    "    results = {'beta_hat': beta_hat, 'y_hat': y_hat, 'mse': mse}\n",
    "\n",
    "    return(results)"
   ]
  },
  {
   "cell_type": "code",
   "execution_count": 42,
   "metadata": {},
   "outputs": [],
   "source": [
    "def run_question_one_one_main(k):\n",
    "    '''\n",
    "    ------------------------\n",
    "    Input: Dataset and degree\n",
    "    Output: Assignment data\n",
    "    ------------------------\n",
    "    ''' \n",
    "    # Store output figures here\n",
    "    path = '../figs/1_1.png'\n",
    "    \n",
    "    # Title of results plot\n",
    "    title = 'Polynomial Basis Fits'\n",
    "\n",
    "    # Get results\n",
    "    results = [run_regression(degree) for degree in range(k + 1)]\n",
    "    \n",
    "    # Plot and save results\n",
    "    plot_results(path, title, k, results)\n",
    "    \n",
    "    # Return the results\n",
    "    return(results)"
   ]
  },
  {
   "cell_type": "code",
   "execution_count": 43,
   "metadata": {},
   "outputs": [
    {
     "data": {
      "image/png": "[encoded data removed]",
      "text/plain": [
       "<Figure size 720x360 with 1 Axes>"
      ]
     },
     "metadata": {
      "needs_background": "light"
     },
     "output_type": "display_data"
    },
    {
     "data": {
      "text/plain": [
       "<Figure size 720x360 with 0 Axes>"
      ]
     },
     "metadata": {},
     "output_type": "display_data"
    }
   ],
   "source": [
    "results = run_question_one_one_main(k = 3)"
   ]
  },
  {
   "cell_type": "code",
   "execution_count": null,
   "metadata": {},
   "outputs": [],
   "source": []
  }
 ],
 "metadata": {
  "kernelspec": {
   "display_name": "Python 3",
   "language": "python",
   "name": "python3"
  },
  "language_info": {
   "codemirror_mode": {
    "name": "ipython",
    "version": 3
   },
   "file_extension": ".py",
   "mimetype": "text/x-python",
   "name": "python",
   "nbconvert_exporter": "python",
   "pygments_lexer": "ipython3",
   "version": "3.8.0"
  }
 },
 "nbformat": 4,
 "nbformat_minor": 4
}

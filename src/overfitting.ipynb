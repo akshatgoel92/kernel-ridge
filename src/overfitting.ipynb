{
 "cells": [
  {
   "cell_type": "code",
   "execution_count": 1,
   "metadata": {},
   "outputs": [],
   "source": [
    "# Import packages\n",
    "import os\n",
    "import math\n",
    "import numpy as np\n",
    "import pandas as pd\n",
    "import matplotlib.pyplot as plt"
   ]
  },
  {
   "cell_type": "code",
   "execution_count": 36,
   "metadata": {},
   "outputs": [],
   "source": [
    "def get_sin_basis(x): \n",
    "    '''\n",
    "    ---------------------\n",
    "    Input:\n",
    "    Output: \n",
    "    ---------------------\n",
    "    '''\n",
    "    y_true = np.sin(2*math.pi*x)**2\n",
    "    return y_true\n",
    "\n",
    "\n",
    "def add_noise(y_true, loc = 0, sd = 0.07):\n",
    "    '''\n",
    "    ---------------------\n",
    "    Input:\n",
    "    Output: \n",
    "    ---------------------\n",
    "    '''\n",
    "    y_obs = y_true + np.random.normal(loc, sd, y_true.shape)\n",
    "    \n",
    "    return(y_obs)\n",
    "\n",
    "\n",
    "def get_data(n, lower, upper, sd):\n",
    "    '''\n",
    "    ---------------------\n",
    "    Input:\n",
    "    Output: \n",
    "    ---------------------\n",
    "    '''\n",
    "    np.random.seed(1291239)\n",
    "    x = np.random.uniform(lower, upper, n)\n",
    "    \n",
    "    y_true = get_sin_basis(x)\n",
    "    y_obs = add_noise(y_true, sd = sd)\n",
    "    \n",
    "    return x, y_true, y_obs\n",
    "\n",
    "\n",
    "def plot_data(x, y_obs, path):\n",
    "    '''\n",
    "    ------------------------\n",
    "    Input: Dataset and degree\n",
    "    Output: Assignment data\n",
    "    ------------------------\n",
    "    '''\n",
    "    # Close any figures currently open\n",
    "    plt.clf()\n",
    "\n",
    "    # Make grids of x and y points to plot\n",
    "    x_grid = np.linspace(0, 5, 1000000)\n",
    "    y_grid = np.array([get_sin_basis(example) for example in x_grid])\n",
    "\n",
    "    # Title of the plot\n",
    "    title = \"True basis function vs. Noisy data points\"\n",
    "\n",
    "    # Plot the true curve\n",
    "    plt.plot(x_grid, y_grid, label = \"True function\")\n",
    "    plt.plot(x, y_obs, \"r.\")\n",
    "    \n",
    "    # Add annotations\n",
    "    plt.xlabel('X')\n",
    "    plt.ylabel('Y')\n",
    "    plt.title(title)\n",
    "    \n",
    "    \n",
    "    axes = plt.gca()\n",
    "    axes.set_xlim([0,1.6])\n",
    "    axes.set_ylim([0,1.6])\n",
    "\n",
    "    \n",
    "    # Display and save plot\n",
    "    plt.savefig(path)"
   ]
  },
  {
   "cell_type": "code",
   "execution_count": 37,
   "metadata": {},
   "outputs": [
    {
     "data": {
      "image/png": "[encoded data removed]",
      "text/plain": [
       "<Figure size 432x288 with 1 Axes>"
      ]
     },
     "metadata": {
      "needs_background": "light"
     },
     "output_type": "display_data"
    }
   ],
   "source": [
    "# Get and plot initial data\n",
    "x, y_true, y_obs = get_data(30, 0, 1, 0.07)\n",
    "plot_data(x, y_obs, os.path.join(\"..\", \"figs\", '1_2_data.png'))"
   ]
  },
  {
   "cell_type": "code",
   "execution_count": 34,
   "metadata": {},
   "outputs": [],
   "source": [
    "def run_regression(k, x, y, loss_func):\n",
    "    '''\n",
    "    ------------------------\n",
    "    Input: Dataset and degree\n",
    "    Output: Assignment data\n",
    "    ------------------------\n",
    "    ''' \n",
    "    phi_x = get_basis(x, k)\n",
    "    beta_hat = get_sol(phi_x, y)\n",
    "    y_hat = get_predictions(phi_x, beta_hat)\n",
    "    \n",
    "    mse = loss_func(y, y_hat)\n",
    "    results = {'beta_hat': beta_hat, 'y_hat': y_hat, 'mse': mse, 'degree': k}\n",
    "    \n",
    "    return(results)\n",
    "\n",
    "\n",
    "def get_basis(x, k):\n",
    "    '''\n",
    "    ------------------------\n",
    "    Input: Dataset and degree\n",
    "    Output: Polynomial basis features\n",
    "    ------------------------\n",
    "    '''\n",
    "    grid = np.meshgrid(x, np.arange(k + 1)) \n",
    "    return np.power(grid[0], grid[1]).T\n",
    "\n",
    "\n",
    "def get_sol(X, Y):\n",
    "    '''\n",
    "    ------------------------\n",
    "    Input: Polynomial features\n",
    "    Output: Least squares solution\n",
    "    ------------------------\n",
    "    '''\n",
    "    return np.linalg.solve(X.T @ X, X.T @ Y)\n",
    "\n",
    "\n",
    "def get_predictions(X, beta_hat):\n",
    "    '''\n",
    "    ------------------------\n",
    "    Input: \n",
    "           1) Polynomial features\n",
    "           2) Least squares coefficients\n",
    "    Output: Predictions\n",
    "    ------------------------\n",
    "    '''\n",
    "    return X @ beta_hat\n",
    "\n",
    "\n",
    "def get_mse(Y, Y_hat):\n",
    "    '''\n",
    "    ------------------------\n",
    "    Input: True values and predicted values\n",
    "    Output: Mean squared error\n",
    "    ------------------------\n",
    "    '''\n",
    "    return np.sum(np.power(Y-Y_hat, 2))/max(Y.shape)\n",
    "\n",
    "\n",
    "def get_ln_mse(Y, Y_hat, tolerance=1e-18):\n",
    "    '''\n",
    "    ------------------------\n",
    "    Input: Dataset and degree\n",
    "    Output: Assignment data\n",
    "    ------------------------\n",
    "    '''\n",
    "    return np.log(np.sum((Y-Y_hat)**2)/max(Y.shape))"
   ]
  },
  {
   "cell_type": "code",
   "execution_count": 38,
   "metadata": {},
   "outputs": [],
   "source": [
    "def run_polynomial_regression(x, y, lower = 1, upper = 18):\n",
    "    '''\n",
    "    ------------------------\n",
    "    Input: Dataset and degree\n",
    "    Output: Assignment data\n",
    "    ------------------------\n",
    "    '''\n",
    "    results = np.array([run_regression(k, x, y, get_ln_mse) for k in range(lower, upper + 1)])\n",
    "    ln_mse = np.array([result['mse'] for result in results])\n",
    "    \n",
    "    return results, ln_mse\n",
    "\n",
    "\n",
    "def plot_results(path, title, k, results, x_lab = \"X\", y_lab=\"Y\"):\n",
    "    '''\n",
    "    ------------------------\n",
    "    Input: Dataset and degree\n",
    "    Output: Assignment data\n",
    "    ------------------------\n",
    "    ''' \n",
    "    # Make grids for plot\n",
    "    x_grid = np.linspace(-5, 5, 100000)\n",
    "    x_basis = [get_basis(x_grid, degree) for degree in range(1, k + 1)]\n",
    "    y_grid = [get_predictions(basis, results[deg]['beta_hat']) for basis, deg in zip(x_basis, range(k + 1))]\n",
    "    \n",
    "    # Plots\n",
    "    for degree in range(k + 1):\n",
    "        plt.plot(x_grid, y_grid[degree], label = str(degree))\n",
    "    \n",
    "    # Add annotations\n",
    "    plt.xlabel(x_lab)\n",
    "    plt.ylabel(y_lab)\n",
    "    plt.title(title)\n",
    "    plt.legend()\n",
    "    \n",
    "    axes = plt.gca()\n",
    "    axes.set_xlim([0,5])\n",
    "    axes.set_ylim([-5,8])\n",
    "\n",
    "    \n",
    "    # Display and save plot\n",
    "    plt.show()\n",
    "    plt.savefig(path)"
   ]
  },
  {
   "cell_type": "code",
   "execution_count": 46,
   "metadata": {},
   "outputs": [
    {
     "data": {
      "text/plain": [
       "array([{'beta_hat': array([0.5075193 , 0.16361817]), 'y_hat': array([0.53222568, 0.5622398 , 0.63497496, 0.56674795, 0.51188368,\n",
       "       0.57860748, 0.63705779, 0.65537368, 0.55782952, 0.58576991,\n",
       "       0.52770985, 0.59792262, 0.55005765, 0.51330578, 0.5522555 ,\n",
       "       0.5524216 , 0.59767812, 0.63067898, 0.63483548, 0.56127462,\n",
       "       0.55327393, 0.56348869, 0.65971697, 0.51819022, 0.61256257,\n",
       "       0.61872598, 0.63503808, 0.54701011, 0.60235529, 0.55619353]), 'mse': -1.965829931466988, 'degree': 1},\n",
       "       {'beta_hat': array([ 0.25536861,  1.69494674, -1.6108238 ]), 'y_hat': array([0.47457745, 0.64205589, 0.59823262, 0.65784689, 0.29943379,\n",
       "       0.68770808, 0.58760113, 0.47162928, 0.62424106, 0.69754454,\n",
       "       0.43999661, 0.70011042, 0.58715063, 0.3132969 , 0.59837679,\n",
       "       0.59920152, 0.70023399, 0.61851193, 0.5989259 , 0.63835723,\n",
       "       0.60338161, 0.6466754 , 0.4382069 , 0.35905881, 0.67959991,\n",
       "       0.66324995, 0.59791809, 0.57062253, 0.69662272, 0.61703747]), 'mse': -2.0440365106205105, 'degree': 2},\n",
       "       {'beta_hat': array([ 0.03424865,  4.47028557, -9.25271201,  5.56644531]), 'y_hat': array([0.51745615, 0.70259896, 0.53309366, 0.70404054, 0.14701205,\n",
       "       0.68638787, 0.53611039, 0.62572954, 0.69580473, 0.66474901,\n",
       "       0.45544639, 0.61841981, 0.66886398, 0.18101704, 0.67857491,\n",
       "       0.67923902, 0.61940057, 0.53063886, 0.5329359 , 0.70159034,\n",
       "       0.68249635, 0.70352622, 0.6666943 , 0.28798189, 0.56346903,\n",
       "       0.54598605, 0.53316685, 0.65244893, 0.60072895, 0.69179775]), 'mse': -2.1116222133177946, 'degree': 3},\n",
       "       {'beta_hat': array([  -0.93027909,   26.10139813, -112.75940035,  174.37800764,\n",
       "        -88.2382306 ]), 'y_hat': array([ 0.99450673,  0.60600481,  0.91497217,  0.49886759, -0.31101067,\n",
       "        0.28210398,  0.92359357,  0.41525645,  0.71514873,  0.22057539,\n",
       "        0.88079487,  0.25767738,  0.89523823, -0.14064119,  0.8478676 ,\n",
       "        0.84413696,  0.25522066,  0.87139736,  0.9140739 ,  0.62976046,\n",
       "        0.82470876,  0.57558375,  0.07077899,  0.33917385,  0.50366543,\n",
       "        0.64099976,  0.91536605,  0.95316522,  0.31311325,  0.75530599]), 'mse': -3.636806057120304, 'degree': 4},\n",
       "       {'beta_hat': array([  -0.46094789,   12.01619718,  -15.53627707,  -88.01768202,\n",
       "        214.7750553 , -125.34060128]), 'y_hat': array([ 0.79803445,  0.690031  ,  0.99861117,  0.58668638, -0.15304347,\n",
       "        0.32092724,  1.03011077,  0.45040582,  0.78149708,  0.20417921,\n",
       "        0.66609632,  0.1510953 ,  0.89858517, -0.05898246,  0.87274216,\n",
       "        0.87053007,  0.15003607,  0.90349202,  0.99610919,  0.71110774,\n",
       "        0.85863897,  0.662088  , -0.06055741,  0.23596829,  0.37552747,\n",
       "        0.5470739 ,  0.99972836,  0.92286031,  0.18622164,  0.81160528]), 'mse': -4.0823497788914995, 'degree': 5},\n",
       "       {'beta_hat': array([ 1.50385786e-01, -1.17422022e+01,  2.25813006e+02, -1.10771765e+03,\n",
       "        2.25902542e+03, -2.05432963e+03,  6.89153165e+02]), 'y_hat': array([ 0.73359307,  0.67441586,  0.9636289 ,  0.51673096, -0.02206641,\n",
       "        0.15317676,  0.9398495 ,  0.26805361,  0.81600261,  0.0410063 ,\n",
       "        0.52596193,  0.11168487,  0.98842664, -0.02802984,  0.95304571,\n",
       "        0.94988844,  0.10711746,  0.96986294,  0.96472922,  0.70702059,\n",
       "        0.93268556,  0.6313529 ,  0.10501913,  0.07627543,  0.53587986,\n",
       "        0.73780013,  0.96311071,  1.01587473,  0.21310382,  0.86220463]), 'mse': -5.030411182792266, 'degree': 6},\n",
       "       {'beta_hat': array([ 1.25476831e-02, -5.44818418e+00,  1.44480719e+02, -6.52856101e+02,\n",
       "        9.68488571e+02, -1.09487316e+02, -7.93847844e+02,  4.49821691e+02]), 'y_hat': array([ 0.72272976,  0.68696514,  0.96804254,  0.53430733, -0.04188044,\n",
       "        0.16513849,  0.93633095,  0.2242992 ,  0.8203109 ,  0.04096367,\n",
       "        0.53239584,  0.09647079,  0.97491494, -0.02679471,  0.94450716,\n",
       "        0.9417376 ,  0.09200093,  0.98506441,  0.96961375,  0.71800944,\n",
       "        0.92653722,  0.64568218,  0.13473871,  0.10799569,  0.53437517,\n",
       "        0.74827562,  0.96730867,  0.9963806 ,  0.19810264,  0.86288185]), 'mse': -5.067573459709515, 'degree': 7},\n",
       "       {'beta_hat': array([-5.58625057e-01,  2.37018564e+01, -3.05845717e+02,  2.48851282e+03,\n",
       "       -1.06824956e+04,  2.44072257e+04, -3.01392560e+04,  1.90540614e+04,\n",
       "       -4.84708124e+03]), 'y_hat': array([ 0.65248157,  0.70899817,  0.94341371,  0.54162785, -0.10187005,\n",
       "        0.11500407,  0.91143309,  0.32563223,  0.8443154 , -0.02123389,\n",
       "        0.50798241,  0.08328419,  0.96817565, -0.00826725,  0.95044891,\n",
       "        0.94852785,  0.0772226 ,  0.97573077,  0.94519662,  0.7416537 ,\n",
       "        0.93740882,  0.66474501,  0.07330247,  0.20990384,  0.59710075,\n",
       "        0.8053307 ,  0.94259154,  0.96879836,  0.21452707,  0.88393986]), 'mse': -5.405242017191813, 'degree': 8},\n",
       "       {'beta_hat': array([-6.91463403e-02, -4.38766499e+00,  2.17810900e+02, -2.09298463e+03,\n",
       "        1.12935936e+04, -3.77366491e+04,  7.60456340e+04, -8.85611418e+04,\n",
       "        5.46403827e+04, -1.38066751e+04]), 'y_hat': array([ 0.69465091,  0.7255761 ,  0.93059388,  0.57453492, -0.0656971 ,\n",
       "        0.14406246,  0.8816032 ,  0.3631537 ,  0.84179835, -0.02271615,\n",
       "        0.5449836 ,  0.04975776,  0.94517994, -0.02875295,  0.93003163,\n",
       "        0.92842993,  0.04358174,  0.99863898,  0.93356432,  0.7540884 ,\n",
       "        0.919201  ,  0.68644883,  0.0522954 ,  0.15576345,  0.62475652,\n",
       "        0.86030615,  0.92923539,  0.9477867 ,  0.18962388,  0.87492507]), 'mse': -5.5945050235184155, 'degree': 9},\n",
       "       {'beta_hat': array([ 3.51083378e-01, -3.22278903e+01,  8.55423194e+02, -9.10297895e+03,\n",
       "        5.42088632e+04, -1.96082003e+05,  4.41803278e+05, -6.20567696e+05,\n",
       "        5.27496577e+05, -2.48205486e+05,  4.96256292e+04]), 'y_hat': array([ 0.6965682 ,  0.74229762,  0.93403473,  0.58473989, -0.04774213,\n",
       "        0.11484037,  0.90853275,  0.35211465,  0.85383274, -0.05607398,\n",
       "        0.57050394,  0.05921755,  0.92873764, -0.04664967,  0.92287947,\n",
       "        0.92197301,  0.05205517,  0.96575287,  0.9355295 ,  0.77075062,\n",
       "        0.91624933,  0.70244523,  0.0579322 ,  0.14295747,  0.63614805,\n",
       "        0.83886605,  0.93334907,  0.91974937,  0.2132801 ,  0.88253422]), 'mse': -5.674867916563483, 'degree': 10},\n",
       "       {'beta_hat': array([-8.89110654e+00,  6.35213584e+02, -1.63673951e+04,  2.08846432e+05,\n",
       "       -1.51526439e+06,  6.79024387e+06, -1.96588670e+07,  3.74248343e+07,\n",
       "       -4.65099343e+07,  3.62941931e+07, -1.61317820e+07,  3.11359175e+06]), 'y_hat': array([ 0.93746521,  0.70616019,  0.91490917,  0.73147638, -0.31134704,\n",
       "        0.37944506,  1.24802385,  0.30321003,  0.71164658, -0.07547366,\n",
       "        0.25504987, -0.11634868,  0.99667992,  0.30964206,  0.8773318 ,\n",
       "        0.86939636, -0.12994395,  0.54192757,  0.89590875,  0.7014849 ,\n",
       "        0.83142282,  0.71430054,  0.08003298,  0.111995  ,  0.93989077,\n",
       "        0.92640729,  0.92365405,  1.18908528,  0.20534893,  0.73862401]), 'mse': -3.3673302014322606, 'degree': 11},\n",
       "       {'beta_hat': array([ 1.82721449e-01, -2.04534525e+01,  5.68907881e+02, -5.82336653e+03,\n",
       "        3.42495656e+04, -1.30396919e+05,  3.47843885e+05, -7.06378697e+05,\n",
       "        1.13829083e+06, -1.39043809e+06,  1.15509893e+06, -5.61726274e+05,\n",
       "        1.18737968e+05]), 'y_hat': array([ 0.702155  ,  0.74104857,  0.93311069,  0.58925718, -0.0528978 ,\n",
       "        0.1241133 ,  0.92463871,  0.34961713,  0.8495517 , -0.05652211,\n",
       "        0.5631604 ,  0.05235962,  0.93077372, -0.03966462,  0.92167638,\n",
       "        0.920564  ,  0.04496525,  0.94628072,  0.93364371,  0.76851138,\n",
       "        0.91388381,  0.70266394,  0.05908079,  0.1425229 ,  0.64887425,\n",
       "        0.84280472,  0.93286804,  0.92725496,  0.21281076,  0.87829891]), 'mse': -5.68127008032594, 'degree': 12},\n",
       "       {'beta_hat': array([-2.39759959e+00,  1.73739094e+02, -4.72396384e+03,  6.53848955e+04,\n",
       "       -5.10643545e+05,  2.41742586e+06, -7.10168143e+06,  1.24076498e+07,\n",
       "       -9.87064671e+06, -5.86493967e+06,  2.31566858e+07, -2.45811232e+07,\n",
       "        1.24259064e+07, -2.53953926e+06]), 'y_hat': array([ 0.78175676,  0.76807567,  0.94628815,  0.63402738, -0.11177854,\n",
       "        0.091414  ,  0.85303228,  0.35553557,  0.84408723, -0.12376772,\n",
       "        0.51294314,  0.07660913,  0.91386441,  0.05242549,  0.89631598,\n",
       "        0.89500278,  0.06715972,  1.01128072,  0.95096719,  0.78886335,\n",
       "        0.88821069,  0.73715943,  0.05656976,  0.10460283,  0.62702042,\n",
       "        0.78399586,  0.94410739,  0.93951927,  0.25973705,  0.86238069]), 'mse': -5.758321120722097, 'degree': 13},\n",
       "       {'beta_hat': array([-7.92664893e-01,  5.29727444e+01, -1.43427065e+03,  2.11857706e+04,\n",
       "       -1.73288346e+05,  8.47484159e+05, -2.55505732e+06,  4.59004016e+06,\n",
       "       -3.93462685e+06, -1.36667836e+06,  7.21140014e+06, -7.59403842e+06,\n",
       "        3.55574302e+06, -5.33861275e+05, -6.69449764e+04]), 'y_hat': array([ 0.73179275,  0.75105445,  0.93812113,  0.6057952 , -0.0752365 ,\n",
       "        0.1117689 ,  0.89683915,  0.35199078,  0.84752074, -0.08151573,\n",
       "        0.54416591,  0.06165239,  0.92455988, -0.00491069,  0.9122943 ,\n",
       "        0.91110557,  0.05349848,  0.97168838,  0.94026359,  0.77604667,\n",
       "        0.90437562,  0.71543049,  0.05806753,  0.12851661,  0.64014153,\n",
       "        0.8205714 ,  0.9371264 ,  0.93193706,  0.23035012,  0.87239392]), 'mse': -5.840550851330555, 'degree': 14},\n",
       "       {'beta_hat': array([-1.33430610e+00,  9.04257233e+01, -2.31950342e+03,  3.06263215e+04,\n",
       "       -2.21491900e+05,  9.33303172e+05, -2.29201520e+06,  2.89844963e+06,\n",
       "       -5.68882424e+05, -2.96316159e+06,  2.50040960e+06,  7.65922328e+05,\n",
       "       -4.66580613e+04, -3.40916552e+06,  3.36194471e+06, -9.87141162e+05]), 'y_hat': array([ 0.75436848,  0.75509632,  0.94554492,  0.62704115, -0.09169649,\n",
       "        0.11908698,  0.87296693,  0.35312562,  0.83718385, -0.10710086,\n",
       "        0.52112865,  0.05983129,  0.92584864,  0.01814076,  0.90461767,\n",
       "        0.90292265,  0.05031545,  0.98214983,  0.94893442,  0.77626626,\n",
       "        0.89400523,  0.72457839,  0.05761381,  0.1250336 ,  0.65051848,\n",
       "        0.79392423,  0.94395337,  0.95088414,  0.25126411,  0.85985816]), 'mse': -5.887028721585412, 'degree': 15},\n",
       "       {'beta_hat': array([-1.33061754e+00,  9.13507329e+01, -2.36827577e+03,  3.09894519e+04,\n",
       "       -2.11445699e+05,  7.26962450e+05, -6.26449788e+05, -4.45748266e+06,\n",
       "        1.83342709e+07, -2.91822085e+07,  1.23412674e+07,  2.49711724e+07,\n",
       "       -3.24226155e+07, -4.49974449e+06,  3.31611189e+07, -2.38884202e+07,\n",
       "        5.72501340e+06]), 'y_hat': array([ 0.75504798,  0.76121656,  0.92836101,  0.61127575, -0.08831089,\n",
       "        0.08769273,  0.91309627,  0.35208259,  0.85147642, -0.08765252,\n",
       "        0.532357  ,  0.07726397,  0.91633017,  0.01669797,  0.90498864,\n",
       "        0.90399296,  0.06988687,  0.98507569,  0.92997958,  0.78563484,\n",
       "        0.89847888,  0.72551715,  0.05800348,  0.11751659,  0.61003526,\n",
       "        0.83841672,  0.92764664,  0.92827356,  0.22444059,  0.87258358]), 'mse': -5.809719217287948, 'degree': 16},\n",
       "       {'beta_hat': array([ 1.07159962e-01, -1.96546489e+01,  7.52809993e+02, -1.20834896e+04,\n",
       "        1.18147507e+05, -7.19964910e+05,  2.73442554e+06, -6.32094305e+06,\n",
       "        7.99831718e+06, -2.94347107e+06, -5.30511455e+06,  7.87597355e+06,\n",
       "       -8.14086644e+06,  1.33660655e+07, -1.44180496e+07,  5.48950492e+06,\n",
       "        1.35906251e+06, -1.08199785e+06]), 'y_hat': array([ 0.72016813,  0.74500699,  0.95602269,  0.62340746, -0.05979487,\n",
       "        0.14274448,  0.85190264,  0.35344981,  0.83263482, -0.10564993,\n",
       "        0.54215968,  0.04560183,  0.9349555 , -0.0309429 ,  0.91251079,\n",
       "        0.91058375,  0.03511245,  0.97392771,  0.9602315 ,  0.76646315,\n",
       "        0.90023179,  0.71501868,  0.0575025 ,  0.14459986,  0.67906405,\n",
       "        0.77162754,  0.95401379,  0.95456398,  0.26101468,  0.8592735 ]), 'mse': -5.8086752093063945, 'degree': 17},\n",
       "       {'beta_hat': array([-1.31034453e-01,  8.07043138e-01,  8.57560327e+01, -1.00154259e+03,\n",
       "        1.17327882e+04, -8.95081129e+04,  3.62763253e+05, -7.07946108e+05,\n",
       "        3.12217400e+05,  8.74518976e+05, -2.70734458e+05, -2.46314051e+06,\n",
       "        1.60969852e+06,  2.79461221e+06, -2.10172932e+06, -2.10751151e+06,\n",
       "        1.52842898e+06,  9.11662388e+05, -6.64405009e+05]), 'y_hat': array([ 0.72034538,  0.74600896,  0.95353173,  0.61596749, -0.06264414,\n",
       "        0.1347484 ,  0.85870385,  0.3532315 ,  0.83816357, -0.09716196,\n",
       "        0.5464212 ,  0.04872033,  0.93179445, -0.02547244,  0.91358643,\n",
       "        0.91194129,  0.03884197,  0.97220927,  0.95738802,  0.76895643,\n",
       "        0.90292006,  0.71381954,  0.05758466,  0.13966484,  0.67218375,\n",
       "        0.78135542,  0.95169286,  0.94512168,  0.25308444,  0.86469706]), 'mse': -5.818549249019218, 'degree': 18}],\n",
       "      dtype=object)"
      ]
     },
     "execution_count": 46,
     "metadata": {},
     "output_type": "execute_result"
    }
   ],
   "source": [
    "# Run polynomial regressions\n",
    "lower = 1 \n",
    "upper = 18\n",
    "    \n",
    "# Get from polynomial regression\n",
    "results, ln_mse = run_polynomial_regression(x, y_obs, lower, upper)\n",
    "\n",
    "results"
   ]
  },
  {
   "cell_type": "code",
   "execution_count": 42,
   "metadata": {},
   "outputs": [],
   "source": [
    "def plot_loss(losses, highest_k, path):\n",
    "    '''\n",
    "    ------------------------\n",
    "    Input: Dataset and degree\n",
    "    Output: Assignment data\n",
    "    ------------------------\n",
    "    '''\n",
    "    # Close any currently open plots\n",
    "    plt.clf()\n",
    "\n",
    "    # Title of the plot\n",
    "    title = \"Polynomial degree vs. training error\"\n",
    "\n",
    "    # Make grids of x and y points to plot\n",
    "    x_grid = np.arange(1, highest_k + 1)\n",
    "    \n",
    "    # Plot the true curve\n",
    "    plt.plot(x_grid, losses, \"r.\")\n",
    "    \n",
    "    # Add annotations\n",
    "    plt.xlabel('Polynomial degree')\n",
    "    plt.ylabel('Log MSE')\n",
    "    plt.title(title)\n",
    "    \n",
    "    # Get current access\n",
    "    axes = plt.gca()\n",
    "    axes.set_xlim([0,20])\n",
    "    axes.set_ylim([min(losses) - 0.1, max(losses) + 0.1])\n",
    "\n",
    "    \n",
    "    # Display and save plot\n",
    "    plt.savefig(path)"
   ]
  },
  {
   "cell_type": "code",
   "execution_count": null,
   "metadata": {},
   "outputs": [],
   "source": [
    "# Plot results\n",
    "path = os.path.join(\"..\", \"figs\", '1_2_results.png')\n",
    "title = \"Sinusoid basis regression results\"\n",
    "\n",
    "k = 17\n",
    "plot_results(path, title, k, results)"
   ]
  },
  {
   "cell_type": "code",
   "execution_count": 57,
   "metadata": {},
   "outputs": [],
   "source": [
    "def get_testing_data(n, lower, upper, var):\n",
    "    '''\n",
    "    ---------------------\n",
    "    Input: Parameters needed for data\n",
    "    Output: output\n",
    "    ---------------------\n",
    "    '''\n",
    "    np.random.seed(1890)\n",
    "    x = np.random.uniform(lower, upper, n)\n",
    "    y_true = np.array([get_true_basis(example) for example in x])\n",
    "    y = np.array([get_noisy_basis(example, var) for example in x])\n",
    "    \n",
    "    return x, y_true, y\n",
    "\n",
    "\n",
    "def get_test_mse(x_test, y_test_true, results, k = 17):\n",
    "    '''\n",
    "    ---------------------\n",
    "    Input: Parameters needed for data\n",
    "    Output: output\n",
    "    ---------------------\n",
    "    '''\n",
    "    # Get features\n",
    "    x_basis = [get_basis(x_test, degree) for degree in range(1, k + 1)]\n",
    "    y_preds = [get_predictions(basis, results[deg]['beta_hat']) for basis, deg in zip(x_basis, range(k + 1))]\n",
    "    ln_mse_test = [get_ln_mse(y_test_true, y_pred) for y_pred in y_preds]\n",
    "    \n",
    "    return(ln_mse_test)"
   ]
  },
  {
   "cell_type": "code",
   "execution_count": 47,
   "metadata": {},
   "outputs": [
    {
     "data": {
      "image/png": "[encoded data removed]",
      "text/plain": [
       "<Figure size 432x288 with 1 Axes>"
      ]
     },
     "metadata": {
      "needs_background": "light"
     },
     "output_type": "display_data"
    }
   ],
   "source": [
    "# Plot training loss\n",
    "path = os.path.join(\"..\", \"figs\", '1_2_training_loss.png')\n",
    "plot_loss(ln_mse, upper, path)"
   ]
  },
  {
   "cell_type": "code",
   "execution_count": 61,
   "metadata": {},
   "outputs": [
    {
     "data": {
      "image/png": "[encoded data removed]",
      "text/plain": [
       "<Figure size 432x288 with 1 Axes>"
      ]
     },
     "metadata": {
      "needs_background": "light"
     },
     "output_type": "display_data"
    }
   ],
   "source": [
    "x_test, y_test_true, y_obs = get_data(1000, lower, upper, 0.07)\n",
    "ln_mse_test = get_test_mse(x_test, y_test_true, results)\n",
    "\n",
    "plot_loss(ln_mse_tst, 17, path)"
   ]
  },
  {
   "cell_type": "code",
   "execution_count": 63,
   "metadata": {},
   "outputs": [
    {
     "data": {
      "text/plain": [
       "{'beta_hat': array([0.5075193 , 0.16361817]),\n",
       " 'y_hat': array([0.53222568, 0.5622398 , 0.63497496, 0.56674795, 0.51188368,\n",
       "        0.57860748, 0.63705779, 0.65537368, 0.55782952, 0.58576991,\n",
       "        0.52770985, 0.59792262, 0.55005765, 0.51330578, 0.5522555 ,\n",
       "        0.5524216 , 0.59767812, 0.63067898, 0.63483548, 0.56127462,\n",
       "        0.55327393, 0.56348869, 0.65971697, 0.51819022, 0.61256257,\n",
       "        0.61872598, 0.63503808, 0.54701011, 0.60235529, 0.55619353]),\n",
       " 'mse': -1.965829931466988,\n",
       " 'degree': 1}"
      ]
     },
     "execution_count": 63,
     "metadata": {},
     "output_type": "execute_result"
    }
   ],
   "source": [
    "results[0]"
   ]
  },
  {
   "cell_type": "code",
   "execution_count": 64,
   "metadata": {},
   "outputs": [
    {
     "data": {
      "text/plain": [
       "{'beta_hat': array([ 0.25536861,  1.69494674, -1.6108238 ]),\n",
       " 'y_hat': array([0.47457745, 0.64205589, 0.59823262, 0.65784689, 0.29943379,\n",
       "        0.68770808, 0.58760113, 0.47162928, 0.62424106, 0.69754454,\n",
       "        0.43999661, 0.70011042, 0.58715063, 0.3132969 , 0.59837679,\n",
       "        0.59920152, 0.70023399, 0.61851193, 0.5989259 , 0.63835723,\n",
       "        0.60338161, 0.6466754 , 0.4382069 , 0.35905881, 0.67959991,\n",
       "        0.66324995, 0.59791809, 0.57062253, 0.69662272, 0.61703747]),\n",
       " 'mse': -2.0440365106205105,\n",
       " 'degree': 2}"
      ]
     },
     "execution_count": 64,
     "metadata": {},
     "output_type": "execute_result"
    }
   ],
   "source": [
    "results[1]"
   ]
  },
  {
   "cell_type": "code",
   "execution_count": 65,
   "metadata": {},
   "outputs": [],
   "source": [
    "x_basis = [get_basis(x_test, degree) for degree in range(1, k + 1)]"
   ]
  },
  {
   "cell_type": "code",
   "execution_count": 66,
   "metadata": {},
   "outputs": [
    {
     "data": {
      "text/plain": [
       "array([[ 1.        ,  3.5670039 ],\n",
       "       [ 1.        ,  6.68548342],\n",
       "       [ 1.        , 14.24269895],\n",
       "       ...,\n",
       "       [ 1.        ,  6.10789823],\n",
       "       [ 1.        , 16.38862434],\n",
       "       [ 1.        ,  6.46533696]])"
      ]
     },
     "execution_count": 66,
     "metadata": {},
     "output_type": "execute_result"
    }
   ],
   "source": [
    "x_basis[0]"
   ]
  },
  {
   "cell_type": "code",
   "execution_count": 67,
   "metadata": {},
   "outputs": [
    {
     "data": {
      "text/plain": [
       "{'beta_hat': array([0.5075193 , 0.16361817]),\n",
       " 'y_hat': array([0.53222568, 0.5622398 , 0.63497496, 0.56674795, 0.51188368,\n",
       "        0.57860748, 0.63705779, 0.65537368, 0.55782952, 0.58576991,\n",
       "        0.52770985, 0.59792262, 0.55005765, 0.51330578, 0.5522555 ,\n",
       "        0.5524216 , 0.59767812, 0.63067898, 0.63483548, 0.56127462,\n",
       "        0.55327393, 0.56348869, 0.65971697, 0.51819022, 0.61256257,\n",
       "        0.61872598, 0.63503808, 0.54701011, 0.60235529, 0.55619353]),\n",
       " 'mse': -1.965829931466988,\n",
       " 'degree': 1}"
      ]
     },
     "execution_count": 67,
     "metadata": {},
     "output_type": "execute_result"
    }
   ],
   "source": [
    "results[0]"
   ]
  }
 ],
 "metadata": {
  "kernelspec": {
   "display_name": "Python 3",
   "language": "python",
   "name": "python3"
  },
  "language_info": {
   "codemirror_mode": {
    "name": "ipython",
    "version": 3
   },
   "file_extension": ".py",
   "mimetype": "text/x-python",
   "name": "python",
   "nbconvert_exporter": "python",
   "pygments_lexer": "ipython3",
   "version": "3.8.0"
  }
 },
 "nbformat": 4,
 "nbformat_minor": 4
}

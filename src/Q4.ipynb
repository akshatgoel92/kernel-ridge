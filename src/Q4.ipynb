{
 "cells": [
  {
   "cell_type": "code",
   "execution_count": 354,
   "metadata": {},
   "outputs": [],
   "source": [
    "%reset -f\n",
    "import numpy as np\n",
    "import pandas as pd"
   ]
  },
  {
   "cell_type": "code",
   "execution_count": 355,
   "metadata": {},
   "outputs": [],
   "source": [
    "def mean_square_error(y, y_pred):\n",
    "    m = len(y)\n",
    "    return np.sum(np.square(y - y_pred))/m"
   ]
  },
  {
   "cell_type": "code",
   "execution_count": 356,
   "metadata": {},
   "outputs": [],
   "source": [
    "df = pd.read_csv(\"Boston-filtered.csv\")"
   ]
  },
  {
   "cell_type": "code",
   "execution_count": 357,
   "metadata": {},
   "outputs": [],
   "source": [
    "# df = df.sample(frac=1).reset_index(drop=True)\n",
    "\n",
    "# # Create train and test set\n",
    "# train = df[:m_train].reset_index(drop=True)\n",
    "# test = df[m_train:].reset_index(drop=True)\n",
    "\n",
    "# train_y = train.iloc[:, -1]\n",
    "# train_X = train.iloc[:, :-1]\n",
    "\n",
    "# test_y = test.iloc[:, -1]\n",
    "# test_X = test.iloc[:, :-1]\n",
    "\n",
    "# train_ones_x = np.ones(m_train)\n",
    "# test_ones_x = np.ones(m - m_train)"
   ]
  },
  {
   "cell_type": "code",
   "execution_count": 358,
   "metadata": {},
   "outputs": [],
   "source": [
    "def train_lr(X_train, y_train):\n",
    "    w = np.linalg.inv(X_train.T@X_train)@X_train.T@y_train\n",
    "    return w"
   ]
  },
  {
   "cell_type": "code",
   "execution_count": 359,
   "metadata": {},
   "outputs": [],
   "source": [
    "def evaluate_lr(X_test, y_test, w):\n",
    "    y_pred = X_test@w\n",
    "    error = mean_square_error(y_test, y_pred)\n",
    "    return error"
   ]
  },
  {
   "cell_type": "code",
   "execution_count": 360,
   "metadata": {},
   "outputs": [],
   "source": [
    "def create_train_test_set(D, train_ratio):\n",
    "    m = len(D)\n",
    "    m_train = int(train_ratio * m // 1)\n",
    "    \n",
    "    np.random.shuffle(D)\n",
    "\n",
    "    train = D[:m_train]\n",
    "    test = D[m_train:]\n",
    "\n",
    "    X_train = train[:, :-1]\n",
    "    y_train = train[:, -1]\n",
    "    \n",
    "    X_test = test[:, :-1]\n",
    "    y_test = test[:, -1]\n",
    "    \n",
    "    return X_train, y_train, X_test, y_test"
   ]
  },
  {
   "cell_type": "code",
   "execution_count": 361,
   "metadata": {},
   "outputs": [],
   "source": [
    "def lr(df, mode='single', variable=1, iterations=20):\n",
    "    train_errors = []\n",
    "    test_errors = []\n",
    "    \n",
    "    D = df.to_numpy()\n",
    "    \n",
    "    for i in range(iterations):\n",
    "        X_train, y_train, X_test, y_test = create_train_test_set(D, 2/3)\n",
    "\n",
    "        if mode == 'ones':\n",
    "            X_train = np.ones(len(X_train)).reshape(-1, 1)\n",
    "            X_test = np.ones(len(X_test)).reshape(-1, 1)\n",
    "\n",
    "        elif mode == 'single':\n",
    "            X_train = X_train[:, variable].reshape(-1, 1)\n",
    "            X_train = np.hstack( (X_train, np.ones(len(X_train)).reshape(-1, 1)) )\n",
    "            X_test = X_test[:, variable].reshape(-1, 1)\n",
    "            X_test = np.hstack( (X_test, np.ones(len(X_test)).reshape(-1, 1)) )\n",
    "        \n",
    "        w = train_lr(X_train, y_train)\n",
    "        \n",
    "        train_error = evaluate_lr(X_train, y_train, w)\n",
    "        test_error = evaluate_lr(X_test, y_test, w)\n",
    "\n",
    "        train_errors.append(train_error)\n",
    "        test_errors.append(test_error)\n",
    "            \n",
    "    return train_errors, test_errors"
   ]
  },
  {
   "cell_type": "code",
   "execution_count": 363,
   "metadata": {},
   "outputs": [
    {
     "name": "stdout",
     "output_type": "stream",
     "text": [
      "Train and Test MSE over 20 runs for Naive Regression: 83.27688808565718, 86.93278432843866\n",
      "\n",
      "\n",
      "MSE over 20 runs for CRIM: 71.63669066529039, 72.91303074913745\n",
      "MSE over 20 runs for  ZN : 73.41032642630876, 73.90910649738568\n",
      "MSE over 20 runs for INDUS : 65.0759115867134, 64.16154855914704\n",
      "MSE over 20 runs for CHAS: 82.92113993679496, 80.20030631804573\n",
      "MSE over 20 runs for NOX: 68.28866993269887, 70.7400701931123\n",
      "MSE over 20 runs for RM: 42.14518968637113, 46.9065753047473\n",
      "MSE over 20 runs for AGE: 71.79776217759456, 74.0694667842541\n",
      "MSE over 20 runs for DIS: 77.19623145226164, 83.39547865763275\n",
      "MSE over 20 runs for RAD: 70.13903436595885, 76.35678544051646\n",
      "MSE over 20 runs for TAX: 66.08852671807836, 65.86105380202233\n",
      "MSE over 20 runs for PTRATIO: 62.5168412367232, 63.420476142255936\n",
      "MSE over 20 runs for LSTAT: 39.099727683074185, 37.54066296098701\n",
      "\n",
      "\n",
      "Train and Test MSE over 20 runs with full dataset: 24.91610247869065, 28.513295410872907\n",
      "\n",
      "\n"
     ]
    }
   ],
   "source": [
    "train_errors, test_errors = lr(df, mode='ones')\n",
    "print(f\"Train and Test MSE over 20 runs for Naive Regression: {np.mean(np.array(train_errors))}, {np.mean(np.array(test_errors))}\")\n",
    "print('\\n')\n",
    "\n",
    "for i in range(df.shape[-1] - 1):\n",
    "    train_errors, test_errors = lr(df, mode='single', variable=i, iterations=20)\n",
    "    \n",
    "    print(f\"MSE over 20 runs for {df.columns[i]}: {np.mean(np.array(train_errors))}, {np.mean(np.array(test_errors))}\")\n",
    "print('\\n')\n",
    "\n",
    "train_errors, test_errors = lr(df, mode='full')\n",
    "print(f\"Train and Test MSE over 20 runs with full dataset: {np.mean(np.array(train_errors))}, {np.mean(np.array(test_errors))}\")\n",
    "print('\\n')"
   ]
  },
  {
   "cell_type": "code",
   "execution_count": null,
   "metadata": {},
   "outputs": [],
   "source": []
  }
 ],
 "metadata": {
  "kernelspec": {
   "display_name": "Python 3",
   "language": "python",
   "name": "python3"
  },
  "language_info": {
   "codemirror_mode": {
    "name": "ipython",
    "version": 3
   },
   "file_extension": ".py",
   "mimetype": "text/x-python",
   "name": "python",
   "nbconvert_exporter": "python",
   "pygments_lexer": "ipython3",
   "version": "3.8.3"
  }
 },
 "nbformat": 4,
 "nbformat_minor": 4
}

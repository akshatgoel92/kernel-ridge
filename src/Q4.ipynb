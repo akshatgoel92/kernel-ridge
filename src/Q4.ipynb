{
 "cells": [
  {
   "cell_type": "code",
   "execution_count": 14,
   "metadata": {},
   "outputs": [],
   "source": [
    "%reset -f\n",
    "import numpy as np\n",
    "import pandas as pd"
   ]
  },
  {
   "cell_type": "code",
   "execution_count": 15,
   "metadata": {},
   "outputs": [],
   "source": [
    "def mean_square_error(y, y_pred):\n",
    "    m = len(y)\n",
    "    return np.sum(np.square(y - y_pred))/m"
   ]
  },
  {
   "cell_type": "code",
   "execution_count": 16,
   "metadata": {},
   "outputs": [],
   "source": [
    "df = pd.read_csv(\"Boston-filtered.csv\")"
   ]
  },
  {
   "cell_type": "code",
   "execution_count": 17,
   "metadata": {},
   "outputs": [],
   "source": [
    "# df = df.sample(frac=1).reset_index(drop=True)\n",
    "\n",
    "# # Create train and test set\n",
    "# train = df[:m_train].reset_index(drop=True)\n",
    "# test = df[m_train:].reset_index(drop=True)\n",
    "\n",
    "# train_y = train.iloc[:, -1]\n",
    "# train_X = train.iloc[:, :-1]\n",
    "\n",
    "# test_y = test.iloc[:, -1]\n",
    "# test_X = test.iloc[:, :-1]\n",
    "\n",
    "# train_ones_x = np.ones(m_train)\n",
    "# test_ones_x = np.ones(m - m_train)"
   ]
  },
  {
   "cell_type": "code",
   "execution_count": 18,
   "metadata": {},
   "outputs": [],
   "source": [
    "def train_lr(X_train, y_train):\n",
    "    '''\n",
    "    --------------------------\n",
    "    Input: Numpy arrays of features and labels\n",
    "    Output: Weights for least square regression\n",
    "    -------------------------\n",
    "    '''\n",
    "    w = np.linalg.inv(X_train.T@X_train)@X_train.T@y_train\n",
    "    return w"
   ]
  },
  {
   "cell_type": "code",
   "execution_count": 19,
   "metadata": {},
   "outputs": [],
   "source": [
    "def evaluate_lr(X_test, y_test, w):\n",
    "    '''\n",
    "    --------------------------\n",
    "    Input: Features, labels and weights\n",
    "    Output: MSE of using weights to predict the labels\n",
    "    -------------------------\n",
    "    '''\n",
    "    y_pred = X_test@w\n",
    "    error = mean_square_error(y_test, y_pred)\n",
    "    return error"
   ]
  },
  {
   "cell_type": "code",
   "execution_count": 20,
   "metadata": {},
   "outputs": [],
   "source": [
    "def create_train_test_set(D, train_ratio):\n",
    "    '''\n",
    "    --------------------------\n",
    "    Input: Dataset and ratio used for training\n",
    "    Output: Feature and label numpy arrays for training and testing\n",
    "    -------------------------\n",
    "    '''\n",
    "    m = len(D)\n",
    "    m_train = int(train_ratio * m // 1)\n",
    "    \n",
    "    np.random.shuffle(D)\n",
    "\n",
    "    train = D[:m_train]\n",
    "    test = D[m_train:]\n",
    "\n",
    "    X_train = train[:, :-1]\n",
    "    y_train = train[:, -1]\n",
    "    \n",
    "    X_test = test[:, :-1]\n",
    "    y_test = test[:, -1]\n",
    "    \n",
    "    return X_train, y_train, X_test, y_test"
   ]
  },
  {
   "cell_type": "code",
   "execution_count": 21,
   "metadata": {},
   "outputs": [],
   "source": [
    "def lr(df, mode='single', variable=1, iterations=20, precision=3):\n",
    "    '''\n",
    "    --------------------------\n",
    "    Input: Dataframe of dataset\n",
    "    Output: MSE history over iterations specified and relevant statistics such as mean and sd\n",
    "    -------------------------\n",
    "    '''\n",
    "    train_errors = []\n",
    "    test_errors = []\n",
    "    \n",
    "    D = df.to_numpy()\n",
    "    \n",
    "    for i in range(iterations):\n",
    "        X_train, y_train, X_test, y_test = create_train_test_set(D, 2/3)\n",
    "\n",
    "        if mode == 'ones':\n",
    "            X_train = np.ones(len(X_train)).reshape(-1, 1)\n",
    "            X_test = np.ones(len(X_test)).reshape(-1, 1)\n",
    "\n",
    "        elif mode == 'single':\n",
    "            X_train = X_train[:, variable].reshape(-1, 1)\n",
    "            X_train = np.hstack( (X_train, np.ones(len(X_train)).reshape(-1, 1)) )\n",
    "            X_test = X_test[:, variable].reshape(-1, 1)\n",
    "            X_test = np.hstack( (X_test, np.ones(len(X_test)).reshape(-1, 1)) )\n",
    "        \n",
    "        w = train_lr(X_train, y_train)\n",
    "        \n",
    "        train_error = evaluate_lr(X_train, y_train, w)\n",
    "        test_error = evaluate_lr(X_test, y_test, w)\n",
    "\n",
    "        train_errors.append(train_error)\n",
    "        test_errors.append(test_error)\n",
    "    \n",
    "    train_mean = round(np.mean(np.array(train_errors)), precision)\n",
    "    train_std = round(np.std(np.array(train_errors)), precision)\n",
    "\n",
    "    test_mean = round(np.mean(np.array(test_errors)), precision)\n",
    "    test_std = round(np.std(np.array(test_errors)), precision)\n",
    "            \n",
    "    return train_errors, test_errors, train_mean, train_std, test_mean, test_std"
   ]
  },
  {
   "cell_type": "code",
   "execution_count": 22,
   "metadata": {
    "scrolled": true
   },
   "outputs": [
    {
     "name": "stdout",
     "output_type": "stream",
     "text": [
      "Train and Test MSE over 20 runs for Naive Regression: 85.131, 83.127\n",
      "std over 20 runs for Naive Regression: 4.29, 8.536\n",
      "\n",
      "\n",
      "MSE over 20 runs for CRIM: 70.488, 75.812\n",
      "std over 20 runs for CRIM: 5.014, 11.884\n",
      "\n",
      "\n",
      "MSE over 20 runs for  ZN : 72.705, 75.318\n",
      "std over 20 runs for  ZN : 4.348, 8.776\n",
      "\n",
      "\n",
      "MSE over 20 runs for INDUS : 63.796, 66.811\n",
      "std over 20 runs for INDUS : 5.756, 11.523\n",
      "\n",
      "\n",
      "MSE over 20 runs for CHAS: 81.244, 83.723\n",
      "std over 20 runs for CHAS: 4.18, 8.76\n",
      "\n",
      "\n",
      "MSE over 20 runs for NOX: 66.804, 73.813\n",
      "std over 20 runs for NOX: 5.218, 10.519\n",
      "\n",
      "\n",
      "MSE over 20 runs for RM: 42.451, 46.319\n",
      "std over 20 runs for RM: 3.243, 6.835\n",
      "\n",
      "\n",
      "MSE over 20 runs for AGE: 73.011, 71.793\n",
      "std over 20 runs for AGE: 5.736, 11.647\n",
      "\n",
      "\n",
      "MSE over 20 runs for DIS: 78.36, 81.317\n",
      "std over 20 runs for DIS: 6.376, 12.899\n",
      "\n",
      "\n",
      "MSE over 20 runs for RAD: 68.324, 80.307\n",
      "std over 20 runs for RAD: 5.418, 11.058\n",
      "\n",
      "\n",
      "MSE over 20 runs for TAX: 65.82, 66.341\n",
      "std over 20 runs for TAX: 3.559, 7.191\n",
      "\n",
      "\n",
      "MSE over 20 runs for PTRATIO: 63.316, 61.79\n",
      "std over 20 runs for PTRATIO: 4.471, 9.009\n",
      "\n",
      "\n",
      "MSE over 20 runs for LSTAT: 38.727, 38.329\n",
      "std over 20 runs for LSTAT: 2.937, 6.001\n",
      "\n",
      "\n",
      "Train and Test MSE over 20 runs with full dataset: 25.523, 27.465\n",
      "Train and Test std over 20 runs with full dataset: 2.539, 5.399\n",
      "\n",
      "\n"
     ]
    }
   ],
   "source": [
    "train_errors, test_errors, train_means, train_stds, test_means, test_stds = lr(df, mode='ones', precision = 3)\n",
    "print(f\"Train and Test MSE over 20 runs for Naive Regression: {train_means}, {test_means}\")\n",
    "print(f\"std over 20 runs for Naive Regression: {train_stds}, {test_stds}\")\n",
    "print('\\n')\n",
    "\n",
    "for i in range(df.shape[-1] - 1):\n",
    "    train_errors, test_errors, train_means, train_stds, test_means, test_stds = lr(df, mode='single', variable=i, iterations=20)\n",
    "    \n",
    "    print(f\"MSE over 20 runs for {df.columns[i]}: {train_means}, {test_means}\")\n",
    "    print(f\"std over 20 runs for {df.columns[i]}: {train_stds}, {test_stds}\")\n",
    "    print('\\n')\n",
    "\n",
    "train_errors, test_errors, train_means, train_stds, test_means, test_stds = lr(df, mode='full')\n",
    "print(f\"Train and Test MSE over 20 runs with full dataset: {train_means}, {test_means}\")\n",
    "print(f\"Train and Test std over 20 runs with full dataset: {train_stds}, {test_stds}\")\n",
    "\n",
    "print('\\n')"
   ]
  }
 ],
 "metadata": {
  "kernelspec": {
   "display_name": "Python 3",
   "language": "python",
   "name": "python3"
  },
  "language_info": {
   "codemirror_mode": {
    "name": "ipython",
    "version": 3
   },
   "file_extension": ".py",
   "mimetype": "text/x-python",
   "name": "python",
   "nbconvert_exporter": "python",
   "pygments_lexer": "ipython3",
   "version": "3.8.3"
  }
 },
 "nbformat": 4,
 "nbformat_minor": 4
}

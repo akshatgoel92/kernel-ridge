{
 "cells": [
  {
   "cell_type": "code",
   "execution_count": 1,
   "metadata": {},
   "outputs": [],
   "source": [
    "# Import packages\n",
    "import pandas as pd\n",
    "import numpy as np\n",
    "import matplotlib.pyplot as plt\n",
    "from scipy.spatial.distance import cdist, pdist, squareform\n",
    "from sklearn.metrics.pairwise import euclidean_distances\n",
    "from sklearn.metrics.pairwise import rbf_kernel"
   ]
  },
  {
   "cell_type": "code",
   "execution_count": 3,
   "metadata": {},
   "outputs": [],
   "source": [
    "def get_data(path):\n",
    "    '''\n",
    "    --------------------------\n",
    "    Load data from source\n",
    "    Input: Path to data\n",
    "    Output: Data-frame\n",
    "    -------------------------\n",
    "    '''\n",
    "    df = pd.read_csv(path)\n",
    "    return(df)"
   ]
  },
  {
   "cell_type": "code",
   "execution_count": 4,
   "metadata": {},
   "outputs": [],
   "source": [
    "def train_test_split(df, train_percent=0.666666):\n",
    "    '''\n",
    "    --------------------------\n",
    "    Load data from source\n",
    "    Input: Path to data\n",
    "    Output: Data-frame\n",
    "    -------------------------\n",
    "    '''\n",
    "    np.random.seed(4109)\n",
    "    df = df.sample(frac=1).reset_index(drop=True)\n",
    "    \n",
    "    n_train = round(train_percent*len(df))\n",
    "    df_train = df[:n_train]\n",
    "    df_test = df[n_train:]\n",
    "    \n",
    "    return(df_train, df_test)"
   ]
  },
  {
   "cell_type": "code",
   "execution_count": 5,
   "metadata": {},
   "outputs": [],
   "source": [
    "def get_grid_search_vals(start_g, stop_g, start_s, stop_s):\n",
    "    '''\n",
    "    --------------------------\n",
    "    Load data from source\n",
    "    Input: Path to data\n",
    "    Output: Data-frame\n",
    "    -------------------------\n",
    "    '''\n",
    "    gamma_powers = np.arange(start_g, stop_g + 1, 1)\n",
    "    sigma_powers = np.arange(start_s, stop_s + 1, 0.5)\n",
    "    \n",
    "    gamma = np.power(0.5, gamma_powers)\n",
    "    sigma = np.power(0.5, sigma_powers)\n",
    "    \n",
    "    return(gamma, sigma)"
   ]
  },
  {
   "cell_type": "code",
   "execution_count": 40,
   "metadata": {},
   "outputs": [],
   "source": [
    "def get_pairwise_dist(A, B):\n",
    "    '''\n",
    "    --------------------------\n",
    "    Load data from source\n",
    "    Input: Path to data\n",
    "    Output: Data-frame\n",
    "    \n",
    "    References for einsum:\n",
    "    https://ajcr.net/Basic-guide-to-einsum/\n",
    "    https://stackoverflow.com/questions/42991347/how-to-find-the-pairwise-differences-between-rows-of-two-very-large-matrices-usi\n",
    "    -------------------------\n",
    "    '''\n",
    "    dist = np.einsum('ij,ij->i',A, A)[:,None] + np.einsum('ij,ij->i',B,B) - 2*np.dot(A,B.T)\n",
    "    return(dist)"
   ]
  },
  {
   "cell_type": "code",
   "execution_count": 35,
   "metadata": {},
   "outputs": [],
   "source": [
    "def test_pairwise_dist(A, B):\n",
    "    '''\n",
    "    --------------------------\n",
    "    Load data from source\n",
    "    Input: Path to data\n",
    "    Output: Data-frame\n",
    "    \n",
    "    References for einsum:\n",
    "    https://ajcr.net/Basic-guide-to-einsum/\n",
    "    https://stackoverflow.com/questions/45896939/using-python-numpy-einsum-to-obtain-dot-product-between-2-matrices\n",
    "    -------------------------\n",
    "    '''\n",
    "    dist = get_pairwise_dist(A, B)\n",
    "    dist_sk = cdist(A, B)**2\n",
    "    return(dist, dist_sk, np.allclose(dist, dist_sk))"
   ]
  },
  {
   "cell_type": "code",
   "execution_count": 85,
   "metadata": {},
   "outputs": [],
   "source": [
    "def get_gaussian_kernel(X, X_test, sigma):\n",
    "    '''\n",
    "    --------------------------\n",
    "    Load data from source\n",
    "    Input: Path to data\n",
    "    Output: Data-frame\n",
    "    -------------------------\n",
    "    '''\n",
    "    scale = -0.5/np.power(sigma, 2)\n",
    "    K = get_pairwise_dist(X, X_test) \n",
    "    K = K*scale\n",
    "    K = np.exp(K)\n",
    "    return(K)"
   ]
  },
  {
   "cell_type": "code",
   "execution_count": 80,
   "metadata": {},
   "outputs": [],
   "source": [
    "def test_gaussian_kernel(X, X_test, sigma):\n",
    "    '''\n",
    "    --------------------------\n",
    "    Load data from source\n",
    "    Input: Path to data\n",
    "    Output: Data-frame\n",
    "    -------------------------\n",
    "    '''\n",
    "    kernel = get_gaussian_kernel(X, X_test, sigma)\n",
    "    kernel_sk = rbf_kernel(X, X_test, 0.5)\n",
    "    return(np.allclose(kernel, kernel_sk))"
   ]
  },
  {
   "cell_type": "code",
   "execution_count": 108,
   "metadata": {},
   "outputs": [],
   "source": [
    "def get_kernel_ridge_coeff(X, Y, sigma, gamma):\n",
    "    '''\n",
    "    --------------------------\n",
    "    Load data from source\n",
    "    Input: Path to data\n",
    "    Output: Data-frame\n",
    "    -------------------------\n",
    "    '''\n",
    "    m = Y.shape[0]\n",
    "    K = get_gaussian_kernel(X, X, sigma)\n",
    "    alpha = np.linalg.solve(K + gamma*np.identity(m), Y)\n",
    "    return(alpha)"
   ]
  },
  {
   "cell_type": "code",
   "execution_count": 113,
   "metadata": {},
   "outputs": [],
   "source": [
    "def test_kernel_ridge_coeff():\n",
    "    '''\n",
    "    --------------------------\n",
    "    Load data from source\n",
    "    Input: Path to data\n",
    "    Output: Data-frame\n",
    "    -------------------------\n",
    "    '''\n",
    "    a = np.array([1, 2, 3, 4, 5, 6, 7, 8]).reshape(2,4)\n",
    "    b = np.array([2, 4]).reshape(2,1)\n",
    "    result = get_kernel_ridge_coeff(K, b, 1, 2)\n",
    "    return(result)"
   ]
  },
  {
   "cell_type": "code",
   "execution_count": 162,
   "metadata": {},
   "outputs": [],
   "source": [
    "def get_kernel_ridge_prediction(alpha, X, X_test, sigma):\n",
    "    '''\n",
    "    --------------------------\n",
    "    Load data from source\n",
    "    Input: Path to data\n",
    "    Output: Data-frame\n",
    "    -------------------------\n",
    "    '''\n",
    "    K_test = get_gaussian_kernel(X, X_test, sigma)\n",
    "    y_pred = np.einsum('ij,ij->j', alpha, K_test)\n",
    "    return(y_pred)"
   ]
  },
  {
   "cell_type": "code",
   "execution_count": 153,
   "metadata": {},
   "outputs": [],
   "source": [
    "def test_kernel_ridge_prediction():\n",
    "    '''\n",
    "    --------------------------\n",
    "    Load data from source\n",
    "    Input: Path to data\n",
    "    Output: Data-frame\n",
    "    -------------------------\n",
    "    '''\n",
    "    a = np.array([1, 2, 3, 4, 5, 6, 7, 8]).reshape(2,4)\n",
    "    b = np.array([5, 8, 9, 10, 11, 12, 13, 14, 18, 19, 20, 21, 25, 26, 7, 8]).reshape(4,4)\n",
    "    \n",
    "    alpha = test_kernel_ridge_coeff()\n",
    "    result = get_kernel_ridge_prediction(alpha, a, b, 1)\n",
    "    \n",
    "    return(result)"
   ]
  },
  {
   "cell_type": "code",
   "execution_count": 154,
   "metadata": {},
   "outputs": [],
   "source": [
    "def get_k_folds(df_train, k = 5):\n",
    "    '''\n",
    "    --------------------------\n",
    "    Load data from source\n",
    "    Input: Path to data\n",
    "    Output: Data-frame\n",
    "    -------------------------\n",
    "    '''\n",
    "    # Set the seed to make sure reproducible\n",
    "    # Then create a list of folds\n",
    "    np.random.seed(43890)\n",
    "    fold_size = round(len(df_train)/k)\n",
    "    df_train = df_train.sample(frac=1).reset_index(drop=True)\n",
    "    df_folds = [df_train.iloc[i:i+fold_size] for i in range(0,len(df_train)-fold_size+1,fold_size)]\n",
    "    return(df_folds)"
   ]
  },
  {
   "cell_type": "code",
   "execution_count": 155,
   "metadata": {},
   "outputs": [],
   "source": [
    "def get_mse(y, y_hat):\n",
    "    '''\n",
    "    --------------------------\n",
    "    Load data from source\n",
    "    Input: Path to data\n",
    "    Output: Data-frame\n",
    "    -------------------------\n",
    "    '''\n",
    "    return((1/y.shape[0])*np.sum(np.power((y-y_pred),2)))"
   ]
  },
  {
   "cell_type": "code",
   "execution_count": 156,
   "metadata": {},
   "outputs": [],
   "source": [
    "def plot_mse(gamma, sigma):\n",
    "    '''\n",
    "    --------------------------\n",
    "    Load data from source\n",
    "    Input: Path to data\n",
    "    Output: Data-frame\n",
    "    -------------------------\n",
    "    '''\n",
    "    pass"
   ]
  },
  {
   "cell_type": "code",
   "execution_count": 157,
   "metadata": {},
   "outputs": [],
   "source": [
    "def get_best_params(history):\n",
    "    '''\n",
    "    --------------------------\n",
    "    Load data from source\n",
    "    Input: Path to data\n",
    "    Output: Data-frame\n",
    "    -------------------------\n",
    "    '''\n",
    "    best_result = history['val_mse'].argmin()\n",
    "    best_alpha, best_sigma = history[best_result]['alpha'], history[best_result]['sigma']\n",
    "    best_mse = history['val_mse'].min()\n",
    "    \n",
    "    return(best_result, best_mse, best_params)"
   ]
  },
  {
   "cell_type": "code",
   "execution_count": 158,
   "metadata": {},
   "outputs": [],
   "source": [
    "def train_kernel_ridge(X_train, X_val, Y_train, Y_val, sigma, gamma):\n",
    "    '''\n",
    "    --------------------------\n",
    "    Load data from source\n",
    "    Input: Path to data\n",
    "    Output: Data-frame\n",
    "    -------------------------\n",
    "    '''\n",
    "    # Get dual form estimates\n",
    "    alpha = get_kernel_ridge_coeff(x, y, sigma, gamma)\n",
    "    \n",
    "    # Get predictions\n",
    "    y_train_preds = get_kernel_ridge_prediction(alpha, X_train, X_train, sigma)\n",
    "    y_val_preds = get_kernel_ridge_predictions(alpha, X_train, X_train, sigma)\n",
    "    \n",
    "    # Get loss values\n",
    "    mse_train = get_mse(Y_train, y_pred_train)\n",
    "    mse_val = get_mse(Y_val, y_pred_val)\n",
    "    \n",
    "    return(mse_train, mse_val)"
   ]
  },
  {
   "cell_type": "code",
   "execution_count": null,
   "metadata": {},
   "outputs": [],
   "source": [
    "def tests():\n",
    "    '''\n",
    "    --------------------------\n",
    "    Load data from source\n",
    "    Input: Path to data\n",
    "    Output: Data-frame\n",
    "    -------------------------\n",
    "    '''\n",
    "    # Make test data\n",
    "    a = np.array([1, 2, 3, 4, 5, 6, 7, 8]).reshape(2,4)\n",
    "    b = np.array([2, 4, 6, 8, 10, 12, 14, 16]).reshape(2,4)\n",
    "    \n",
    "    dist_test_result = test_pairwise_dist(a, b)\n",
    "    kern_test_result = test_gaussian_kernel(a, b, 1)\n",
    "    \n",
    "    coeff_test_result = test_kernel_ridge_coeff()\n",
    "    prediction_test_result = test_kernel_ridge_prediction()\n",
    "    \n",
    "    return(dist_test_result, kern_test_result)"
   ]
  },
  {
   "cell_type": "code",
   "execution_count": 159,
   "metadata": {},
   "outputs": [],
   "source": [
    "def main():\n",
    "    '''\n",
    "    --------------------------\n",
    "    Load data from source\n",
    "    Input: Path to data\n",
    "    Output: Data-frame\n",
    "    -------------------------\n",
    "    '''\n",
    "    # Setup\n",
    "    path = 'http://www0.cs.ucl.ac.uk/staff/M.Herbster/boston-filter/Boston-filtered.csv'\n",
    "    \n",
    "    # Get list of parameters to search over\n",
    "    gamma_list, sigma_list = get_grid_search_vals(26, 40, 7, 13)\n",
    "    \n",
    "    # Load data\n",
    "    df = get_data(path)\n",
    "    \n",
    "    # Split into train and test: we are making 2/3 splits as required by default\n",
    "    df_train, df_test = train_test_split(df)\n",
    "    \n",
    "    # Divide training data into k=5 folds for cross-validation as question asks\n",
    "    df_folds = get_k_folds(df_train)\n",
    "    \n",
    "    # Convert data-frames into numpy arrays\n",
    "    X_folds = [df_fold[:,:12].to_numpy() for df_fold in df_folds]\n",
    "    Y_folds = [df_fold['MEDV'].to_numpy() for df_fold in df_folds]\n",
    "\n",
    "    # Create a container to store results\n",
    "    history = {'gamma': [],\n",
    "               'sigma': [],\n",
    "               'avg_mse': []}"
   ]
  }
 ],
 "metadata": {
  "kernelspec": {
   "display_name": "Python 3",
   "language": "python",
   "name": "python3"
  },
  "language_info": {
   "codemirror_mode": {
    "name": "ipython",
    "version": 3
   },
   "file_extension": ".py",
   "mimetype": "text/x-python",
   "name": "python",
   "nbconvert_exporter": "python",
   "pygments_lexer": "ipython3",
   "version": "3.8.0"
  }
 },
 "nbformat": 4,
 "nbformat_minor": 4
}

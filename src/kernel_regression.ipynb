{
 "cells": [
  {
   "cell_type": "code",
   "execution_count": 1,
   "metadata": {},
   "outputs": [],
   "source": [
    "# Import packages\n",
    "import pandas as pd\n",
    "import numpy as np\n",
    "import matplotlib.pyplot as plt\n",
    "from scipy.spatial.distance import cdist, pdist, squareform\n",
    "from sklearn.metrics.pairwise import euclidean_distances\n",
    "from sklearn.metrics.pairwise import rbf_kernel"
   ]
  },
  {
   "cell_type": "code",
   "execution_count": 2,
   "metadata": {},
   "outputs": [],
   "source": [
    "def get_data(path):\n",
    "    '''\n",
    "    --------------------------\n",
    "    Load data from source\n",
    "    Input: Path to data\n",
    "    Output: Data-frame\n",
    "    -------------------------\n",
    "    '''\n",
    "    df = pd.read_csv(path)\n",
    "    return(df)"
   ]
  },
  {
   "cell_type": "code",
   "execution_count": 3,
   "metadata": {},
   "outputs": [],
   "source": [
    "def train_test_split(df, train_percent=0.666666):\n",
    "    '''\n",
    "    --------------------------\n",
    "    Load data from source\n",
    "    Input: Path to data\n",
    "    Output: Data-frame\n",
    "    -------------------------\n",
    "    '''\n",
    "    np.random.seed(4109)\n",
    "    df = df.sample(frac=1).reset_index(drop=True)\n",
    "    \n",
    "    n_train = round(train_percent*len(df))\n",
    "    df_train = df[:n_train]\n",
    "    df_test = df[n_train:]\n",
    "    \n",
    "    return(df_train, df_test)"
   ]
  },
  {
   "cell_type": "code",
   "execution_count": 4,
   "metadata": {},
   "outputs": [],
   "source": [
    "def get_grid_search_vals(start_g, stop_g, start_s, stop_s):\n",
    "    '''\n",
    "    --------------------------\n",
    "    Load data from source\n",
    "    Input: Path to data\n",
    "    Output: Data-frame\n",
    "    -------------------------\n",
    "    '''\n",
    "    gamma_powers = np.arange(start_g, stop_g + 1, 1)\n",
    "    sigma_powers = np.arange(start_s, stop_s + 1, 0.5)\n",
    "    \n",
    "    gamma = np.power(0.5, gamma_powers)\n",
    "    sigma = np.power(0.5, sigma_powers)\n",
    "    \n",
    "    return(gamma, sigma)"
   ]
  },
  {
   "cell_type": "code",
   "execution_count": 98,
   "metadata": {},
   "outputs": [],
   "source": [
    "def get_pairwise_dist(A, B):\n",
    "    '''\n",
    "    --------------------------\n",
    "    Load data from source\n",
    "    Input: Path to data\n",
    "    Output: Data-frame\n",
    "    \n",
    "    References for einsum:\n",
    "    https://ajcr.net/Basic-guide-to-einsum/\n",
    "    https://stackoverflow.com/questions/45896939/using-python-numpy-einsum-to-obtain-dot-product-between-2-matrices\n",
    "    -------------------------\n",
    "    '''\n",
    "    dist = np.einsum('ij,ij->i',A,B) + np.einsum('ij,ij->i',B,B) - 2*np.dot(A,B.T)\n",
    "    return(dist)"
   ]
  },
  {
   "cell_type": "code",
   "execution_count": null,
   "metadata": {},
   "outputs": [],
   "source": [
    "def test_pairwise_dist(dist, A, B):\n",
    "        '''\n",
    "    --------------------------\n",
    "    Load data from source\n",
    "    Input: Path to data\n",
    "    Output: Data-frame\n",
    "    \n",
    "    References for einsum:\n",
    "    https://ajcr.net/Basic-guide-to-einsum/\n",
    "    https://stackoverflow.com/questions/45896939/using-python-numpy-einsum-to-obtain-dot-product-between-2-matrices\n",
    "    -------------------------\n",
    "    '''\n",
    "    dist_sk = euclidean_distances(A, B)**2\n",
    "    return(np.allclose(dist, dist_sk))"
   ]
  },
  {
   "cell_type": "code",
   "execution_count": 102,
   "metadata": {},
   "outputs": [],
   "source": [
    "def get_gaussian_kernel(X, X_test, sigma):\n",
    "    '''\n",
    "    --------------------------\n",
    "    Load data from source\n",
    "    Input: Path to data\n",
    "    Output: Data-frame\n",
    "    -------------------------\n",
    "    '''\n",
    "    dist, _, _ = get_pairwise_dist(A, B) \n",
    "    scale = -0.5/np.power(sigma, 2)\n",
    "    kernel = np.exp(dist*scale)\n",
    "    return(kernel)"
   ]
  },
  {
   "cell_type": "code",
   "execution_count": null,
   "metadata": {},
   "outputs": [],
   "source": [
    "def test_gaussian_kernel(X, X_test, kernel):\n",
    "    '''\n",
    "    --------------------------\n",
    "    Load data from source\n",
    "    Input: Path to data\n",
    "    Output: Data-frame\n",
    "    -------------------------\n",
    "    '''\n",
    "    kernel_sk = rbf_kernel(X, X_test, -0.5)\n",
    "    return(np.allclose(kernel, kernel_sk))"
   ]
  },
  {
   "cell_type": "code",
   "execution_count": 103,
   "metadata": {},
   "outputs": [],
   "source": [
    "def get_kernel_ridge_coeff(K, gamma, Y):\n",
    "    '''\n",
    "    --------------------------\n",
    "    Load data from source\n",
    "    Input: Path to data\n",
    "    Output: Data-frame\n",
    "    -------------------------\n",
    "    '''\n",
    "    m = max(Y.shape)\n",
    "    alpha = np.linalg.solve(K + gamma*np.identity(m), Y)\n",
    "    return(alpha)"
   ]
  },
  {
   "cell_type": "code",
   "execution_count": null,
   "metadata": {},
   "outputs": [],
   "source": [
    "def get_kernel_ridge_prediction(alpha, X, X_test, df, sigma):\n",
    "    '''\n",
    "    --------------------------\n",
    "    Load data from source\n",
    "    Input: Path to data\n",
    "    Output: Data-frame\n",
    "    -------------------------\n",
    "    '''\n",
    "    K_test = get_gaussian_kernel(X, X_test, sigma)\n",
    "    y_pred = np.einsum('i,ij->i',alpha, K_test)\n",
    "    return(y_pred)"
   ]
  },
  {
   "cell_type": "code",
   "execution_count": null,
   "metadata": {},
   "outputs": [],
   "source": [
    "def get_k_folds(df_train, k = 5):\n",
    "    '''\n",
    "    --------------------------\n",
    "    Load data from source\n",
    "    Input: Path to data\n",
    "    Output: Data-frame\n",
    "    -------------------------\n",
    "    '''\n",
    "    # Set the seed to make sure reproducible\n",
    "    # Then create a list of folds\n",
    "    np.random.seed(43890)\n",
    "    fold_size = round(len(df_train)/k)\n",
    "    df_train = df_train.sample(frac=1).reset_index(drop=True)\n",
    "    df_folds = [df_train.iloc[i:i+fold_size] for i in range(0,len(df_train)-fold_size+1,fold_size)]\n",
    "    return(df_folds)"
   ]
  },
  {
   "cell_type": "code",
   "execution_count": null,
   "metadata": {},
   "outputs": [],
   "source": [
    "def get_mse(y, y_hat):\n",
    "    '''\n",
    "    --------------------------\n",
    "    Load data from source\n",
    "    Input: Path to data\n",
    "    Output: Data-frame\n",
    "    -------------------------\n",
    "    '''\n",
    "    return(1/max(y.shape)*np.sum(np.power((y-y_pred),2)))"
   ]
  },
  {
   "cell_type": "code",
   "execution_count": null,
   "metadata": {},
   "outputs": [],
   "source": [
    "def plot_mse(gamma, sigma):\n",
    "    '''\n",
    "    --------------------------\n",
    "    Load data from source\n",
    "    Input: Path to data\n",
    "    Output: Data-frame\n",
    "    -------------------------\n",
    "    '''\n",
    "    pass"
   ]
  },
  {
   "cell_type": "code",
   "execution_count": null,
   "metadata": {},
   "outputs": [],
   "source": [
    "def get_best_params(history):\n",
    "    '''\n",
    "    --------------------------\n",
    "    Load data from source\n",
    "    Input: Path to data\n",
    "    Output: Data-frame\n",
    "    -------------------------\n",
    "    '''\n",
    "    best_result = history['val_mse'].argmin()\n",
    "    best_alpha, best_sigma = history[best_result]['alpha'], history[best_result]['sigma']\n",
    "    best_mse = history['val_mse'].min()\n",
    "    \n",
    "    return(best_result, best_mse, best_params)"
   ]
  },
  {
   "cell_type": "code",
   "execution_count": null,
   "metadata": {},
   "outputs": [],
   "source": [
    "def train_kernel_ridge(X_train, X_val, Y_train, Y_val, sigma, gamma):\n",
    "    '''\n",
    "    --------------------------\n",
    "    Load data from source\n",
    "    Input: Path to data\n",
    "    Output: Data-frame\n",
    "    -------------------------\n",
    "    '''\n",
    "    alpha = get_kernel_ridge_coeff()\n",
    "    y_pred_train = get_kernel_ridge_predictions()\n",
    "    y_pred_val = get_kernel_ridge_predictions()\n",
    "    \n",
    "    mse_train = get_mse(Y_train, y_pred_train)\n",
    "    mse_val = get_mse(Y_val, y_pred_val)\n",
    "    \n",
    "    return"
   ]
  },
  {
   "cell_type": "code",
   "execution_count": null,
   "metadata": {},
   "outputs": [],
   "source": [
    "def main():\n",
    "    '''\n",
    "    --------------------------\n",
    "    Load data from source\n",
    "    Input: Path to data\n",
    "    Output: Data-frame\n",
    "    -------------------------\n",
    "    '''\n",
    "    path = 'http://www0.cs.ucl.ac.uk/staff/M.Herbster/boston-filter/Boston-filtered.csv'\n",
    "    \n",
    "    df = get_data(path)\n",
    "    df_train, df_test = train_test_split(df)\n",
    "    gamma, sigma = get_grid_search_vals()"
   ]
  },
  {
   "cell_type": "code",
   "execution_count": null,
   "metadata": {},
   "outputs": [],
   "source": [
    "main()"
   ]
  }
 ],
 "metadata": {
  "kernelspec": {
   "display_name": "Python 3",
   "language": "python",
   "name": "python3"
  },
  "language_info": {
   "codemirror_mode": {
    "name": "ipython",
    "version": 3
   },
   "file_extension": ".py",
   "mimetype": "text/x-python",
   "name": "python",
   "nbconvert_exporter": "python",
   "pygments_lexer": "ipython3",
   "version": "3.8.0"
  }
 },
 "nbformat": 4,
 "nbformat_minor": 4
}
